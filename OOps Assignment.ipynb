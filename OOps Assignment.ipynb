{
 "cells": [
  {
   "cell_type": "markdown",
   "id": "e588a9b9-e022-4189-826d-5f06086b8d63",
   "metadata": {},
   "source": [
    "# __OOPS ASSIGNMENT__"
   ]
  },
  {
   "cell_type": "markdown",
   "id": "5d4f76f6-5e97-4dfd-b59a-925a051fef37",
   "metadata": {},
   "source": [
    "#### 1. What are the five key concepts of Object-Oriented Programming (OOP)?"
   ]
  },
  {
   "cell_type": "markdown",
   "id": "bd8ad37c-487d-4258-8e11-2f648c84f09c",
   "metadata": {},
   "source": [
    "The five key concepts of Object-Oriented Programming (OOP) are:\n",
    "\n",
    "1. **Class**: A blueprint for creating objects. It defines attributes  and methods (functions) that the objects created from the class will have.\n",
    "\n",
    "2. **Object**: An instance of a class. It represents a real-world entity with properties  and behaviors.\n",
    "\n",
    "3. **Encapsulation**: The bundling of data (attributes) and methods (functions) into a single unit, a class. It restricts direct access to some of the object’s components, promoting data hiding and protection.\n",
    "\n",
    "4. **Inheritance**: The mechanism by which one class  can inherit properties and methods from another class (parent/superclass), enabling code reusability and hierarchical classification.\n",
    "\n",
    "5. **Polymorphism**: The ability of objects to take many forms. It allows different classes to be treated as instances of the same class through a common interface, typically achieved through method overriding and overloading.\n"
   ]
  },
  {
   "cell_type": "markdown",
   "id": "569265eb-e775-4fa8-bd13-1ac57b1cfd0b",
   "metadata": {},
   "source": [
    "#### 2. Write a Python class for a `Car` with attributes for `make`, `model`, and `year`. Include a method to display the car's information."
   ]
  },
  {
   "cell_type": "code",
   "execution_count": 4,
   "id": "f444de3f-ece3-4cc2-8420-0171b4fc0d15",
   "metadata": {},
   "outputs": [],
   "source": [
    "class Car:\n",
    "    def __init__(self, make, model, year):\n",
    "        self.make = make\n",
    "        self.model = model\n",
    "        self.year = year\n",
    "\n",
    "    def display_info(self):\n",
    "        print(f\"Car Information: {self.year} {self.make} {self.model}\")"
   ]
  },
  {
   "cell_type": "code",
   "execution_count": 3,
   "id": "a8c6ecbe-a2ca-43f4-80ab-b2242d82f9c5",
   "metadata": {},
   "outputs": [
    {
     "name": "stdout",
     "output_type": "stream",
     "text": [
      "Car Information: 2020 Toyota Camry\n"
     ]
    }
   ],
   "source": [
    "my_car = Car(\"Toyota\", \"Camry\", 2020)\n",
    "my_car.display_info()"
   ]
  },
  {
   "cell_type": "markdown",
   "id": "fefff77c-ce4b-4580-ad28-26d06fb50c65",
   "metadata": {},
   "source": [
    "#### 3. Explain the difference between instance methods and class methods. Provide an example of each."
   ]
  },
  {
   "cell_type": "markdown",
   "id": "931ccd9b-5a20-40f7-8621-33c6cada7ca6",
   "metadata": {},
   "source": [
    "1. **Instance Methods**:\n",
    "   - **Definition**: Instance methods are functions defined inside a class that operate on the instance of the class (i.e., they operate on the object itself).\n",
    "   - **Access**: They can access instance-specific data and methods, and they require an instance of the class to be called.\n",
    "   - **Usage**: Commonly used to manipulate or access instance attributes.\n",
    "   - **Signature**: Instance methods always take `self` as the first parameter, which refers to the current instance.\n",
    "\n",
    "2. **Class Methods**:\n",
    "   - **Definition**: Class methods are functions that are bound to the class and not the object instance. They are used when you need to operate on the class itself, rather than on the instances.\n",
    "   - **Access**: They can't access instance-specific data, but they can access class variables or modify the class itself.\n",
    "   - **Usage**: Useful when you want to create methods that affect the class as a whole, rather than individual objects.\n",
    "   - **Signature**: Class methods take `cls` as the first parameter, which refers to the class, and they are marked with the `@classmethod` decorator."
   ]
  },
  {
   "cell_type": "code",
   "execution_count": 11,
   "id": "7d78de60-4a1d-4963-b8a7-792a2b55a89e",
   "metadata": {},
   "outputs": [
    {
     "name": "stdout",
     "output_type": "stream",
     "text": [
      "Car Information: 2020 Toyota Camry\n",
      "Total number of cars: 0\n"
     ]
    }
   ],
   "source": [
    "class Car:\n",
    "    total_cars = 0\n",
    "\n",
    "    def __init__(self, make, model, year):\n",
    "        self.make = make\n",
    "        self.model = model\n",
    "        self.year = year\n",
    "    def display_info(self):\n",
    "        print(f\"Car Information: {self.year} {self.make} {self.model}\")\n",
    "    @classmethod\n",
    "    def display_total_cars(cls):\n",
    "        print(f\"Total number of cars: {cls.total_cars}\")\n",
    "# Example usage:\n",
    "car1 = Car(\"Toyota\", \"Camry\", 2020)\n",
    "car2 = Car(\"Honda\", \"Civic\", 2021)\n",
    "\n",
    "# Calling instance method\n",
    "car1.display_info() \n",
    "\n",
    "# Calling class method\n",
    "Car.display_total_cars()"
   ]
  },
  {
   "cell_type": "markdown",
   "id": "f39008d2-8445-4254-94b8-c78a01a8e6d8",
   "metadata": {},
   "source": [
    "#### 4. How does Python implement method overloading? Give an example."
   ]
  },
  {
   "cell_type": "markdown",
   "id": "901bd126-af80-45bc-af28-bda58aa17f96",
   "metadata": {},
   "source": [
    "In Python, if we define multiple methods with the same name, the most recent one will overwrite the previous ones. This is because Python functions are dynamically typed and do not have a strict type signature like in statically typed languages."
   ]
  },
  {
   "cell_type": "code",
   "execution_count": 13,
   "id": "a6663f72-13e3-46a2-9d78-e296c374e6ac",
   "metadata": {},
   "outputs": [
    {
     "name": "stdout",
     "output_type": "stream",
     "text": [
      "5\n",
      "6\n",
      "Unsupported number of arguments\n"
     ]
    }
   ],
   "source": [
    "class Calculator:\n",
    "    def add(self, *args):\n",
    "        if len(args) == 2:  \n",
    "            return args[0] + args[1]\n",
    "        elif len(args) == 3: \n",
    "            return args[0] + args[1] + args[2]\n",
    "        else:\n",
    "            return \"Unsupported number of arguments\"\n",
    "\n",
    "calc = Calculator()\n",
    "print(calc.add(2, 3))  \n",
    "print(calc.add(1, 2, 3))  \n",
    "print(calc.add(1)) "
   ]
  },
  {
   "cell_type": "markdown",
   "id": "c76ab8a7-2807-47d3-be5e-6f9c9d06ee24",
   "metadata": {},
   "source": [
    "#### 5. What are the three types of access modifiers in Python? How are they denoted?"
   ]
  },
  {
   "cell_type": "markdown",
   "id": "cc6b6acc-9db0-4e3c-a385-469eb4bb0bf5",
   "metadata": {},
   "source": [
    "In Python, there are three types of access modifiers used to control the visibility of class attributes and methods. Although Python doesn't have explicit access modifiers like `public`, `private`, or `protected` in languages like Java or C++, it follows a naming convention using underscores to achieve similar behavior. These modifiers are:\n",
    " 1. **Public**:\n",
    "   - **Denoted by**: No leading underscore (e.g., `variable_name`).\n",
    "   - **Description**: Public members (attributes and methods) are accessible from anywhere, both inside and outside the class.\n",
    "   "
   ]
  },
  {
   "cell_type": "code",
   "execution_count": 24,
   "id": "2b4f29fc-8ad5-4105-aa51-92937b47bab0",
   "metadata": {},
   "outputs": [
    {
     "name": "stdout",
     "output_type": "stream",
     "text": [
      "Toyota\n"
     ]
    }
   ],
   "source": [
    "class Car:\n",
    "    def __init__(self, make):\n",
    "        self.make = make  # Public attribute\n",
    "car = Car(\"Toyota\")\n",
    "print(car.make) "
   ]
  },
  {
   "cell_type": "markdown",
   "id": "aa1e0a35-ef53-46e8-9a68-3e27af01c3c6",
   "metadata": {},
   "source": [
    "2. **Protected**:\n",
    "   - **Denoted by**: A single leading underscore (e.g., `_variable_name`).\n",
    "   - **Description**: Protected members are intended to be accessed within the class and its subclasses. In Python, this is just a convention (not strict), so they can still be accessed from outside the class, but it's discouraged."
   ]
  },
  {
   "cell_type": "code",
   "execution_count": 22,
   "id": "8dad7994-1a51-4719-bc81-bc818a25245d",
   "metadata": {},
   "outputs": [
    {
     "name": "stdout",
     "output_type": "stream",
     "text": [
      "Electric car make: Tesla\n"
     ]
    }
   ],
   "source": [
    "class Car:\n",
    "    def __init__(self, make):\n",
    "        self._make = make \n",
    "\n",
    "    def _display_make(self): \n",
    "        print(f\"Make: {self._make}\")\n",
    "\n",
    "class ElectricCar(Car):\n",
    "    def display_info(self):\n",
    "        print(f\"Electric car make: {self._make}\") \n",
    "\n",
    "car = ElectricCar(\"Tesla\")\n",
    "car.display_info() "
   ]
  },
  {
   "cell_type": "markdown",
   "id": "8d372884-f810-40b3-b0a3-d3ee2daf68af",
   "metadata": {},
   "source": [
    "3. **Private**:\n",
    "   - **Denoted by**: Two leading underscores (e.g., `__variable_name`).\n",
    "   - **Description**: Private members are intended to be accessible only within the class. Python uses name-mangling to make these attributes/methods harder to access from outside the class, but they can still be accessed with a special name-mangled syntax."
   ]
  },
  {
   "cell_type": "code",
   "execution_count": 23,
   "id": "66d1f846-037c-4922-90a9-e4553103512d",
   "metadata": {},
   "outputs": [
    {
     "name": "stdout",
     "output_type": "stream",
     "text": [
      "Toyota\n"
     ]
    }
   ],
   "source": [
    "class Car:\n",
    "    def __init__(self, make):\n",
    "        self.__make = make  # Private attribute\n",
    "\n",
    "    def __display_make(self):  # Private method\n",
    "        print(f\"Make: {self.__make}\")\n",
    "\n",
    "car = Car(\"Toyota\")\n",
    "print(car._Car__make) "
   ]
  },
  {
   "cell_type": "markdown",
   "id": "0032685d-009a-4002-bf31-eeda9e974b14",
   "metadata": {},
   "source": [
    "#### 6. Describe the five types of inheritance in Python. Provide a simple example of multiple inheritance."
   ]
  },
  {
   "cell_type": "markdown",
   "id": "8218d50a-a4d0-4320-b302-bbee1fa96ce9",
   "metadata": {},
   "source": [
    "1. **Single Inheritance**\n",
    "   - A child class inherits from a single parent class."
   ]
  },
  {
   "cell_type": "code",
   "execution_count": 26,
   "id": "6c681c91-d773-4249-8702-5c9f135695bd",
   "metadata": {},
   "outputs": [
    {
     "name": "stdout",
     "output_type": "stream",
     "text": [
      "Parent class\n"
     ]
    }
   ],
   "source": [
    "class Parent:\n",
    "    def show(self):\n",
    "        print(\"Parent class\")\n",
    "\n",
    "class Child(Parent):\n",
    "    pass\n",
    "\n",
    "obj = Child()\n",
    "obj.show()  # Output: Parent class"
   ]
  },
  {
   "cell_type": "markdown",
   "id": "d721857d-2283-493f-8325-3c793fc3cc78",
   "metadata": {},
   "source": [
    "2. **Multiple Inheritance**\n",
    "   - A child class inherits from more than one parent class."
   ]
  },
  {
   "cell_type": "code",
   "execution_count": 32,
   "id": "64736cc2-1ccb-4a4c-aa69-2ccb7c455b3d",
   "metadata": {},
   "outputs": [
    {
     "name": "stdout",
     "output_type": "stream",
     "text": [
      "Car details:\n",
      "This is a petrol engine\n",
      "This is a sedan body\n"
     ]
    }
   ],
   "source": [
    "class Engine:\n",
    "    def engine_type(self):\n",
    "        print(\"This is a petrol engine\")\n",
    "\n",
    "class Body:\n",
    "    def body_type(self):\n",
    "        print(\"This is a sedan body\")\n",
    "\n",
    "class Car(Engine, Body): \n",
    "    def display(self):\n",
    "        print(\"Car details:\")\n",
    "my_car = Car()\n",
    "my_car.display()        \n",
    "my_car.engine_type()    \n",
    "my_car.body_type()      "
   ]
  },
  {
   "cell_type": "markdown",
   "id": "24723322-362e-4bc6-ab7b-c0d1a150c329",
   "metadata": {},
   "source": [
    "3. **Multilevel Inheritance**\n",
    "   - A child class inherits from a parent class, and another child class inherits from that child class, forming a chain."
   ]
  },
  {
   "cell_type": "code",
   "execution_count": 29,
   "id": "fab858e7-67a3-4363-b0b4-72f44da37a63",
   "metadata": {},
   "outputs": [
    {
     "name": "stdout",
     "output_type": "stream",
     "text": [
      "Grandparent class\n"
     ]
    }
   ],
   "source": [
    "class Grandparent:\n",
    "    def show_grandparent(self):\n",
    "        print(\"Grandparent class\")\n",
    "\n",
    "class Parent(Grandparent):\n",
    "    def show_parent(self):\n",
    "        print(\"Parent class\")\n",
    "\n",
    "class Child(Parent):\n",
    "    pass\n",
    "\n",
    "obj = Child()\n",
    "obj.show_grandparent()"
   ]
  },
  {
   "cell_type": "markdown",
   "id": "1d81a659-73d6-414c-b4c6-4aec756b1c2a",
   "metadata": {},
   "source": [
    "4. **Hierarchical Inheritance**\n",
    "   - Multiple child classes inherit from the same parent class."
   ]
  },
  {
   "cell_type": "code",
   "execution_count": 30,
   "id": "dcafacd4-dc54-40e2-9f1c-e355428c56cb",
   "metadata": {},
   "outputs": [
    {
     "name": "stdout",
     "output_type": "stream",
     "text": [
      "Parent class\n",
      "Parent class\n"
     ]
    }
   ],
   "source": [
    "class Parent:\n",
    "    def show(self):\n",
    "        print(\"Parent class\")\n",
    "\n",
    "class Child1(Parent):\n",
    "    pass\n",
    "\n",
    "class Child2(Parent):\n",
    "    pass\n",
    "\n",
    "obj1 = Child1()\n",
    "obj2 = Child2()\n",
    "\n",
    "obj1.show() \n",
    "obj2.show()  "
   ]
  },
  {
   "cell_type": "markdown",
   "id": "3d32f114-8505-49c0-a723-f90dd20e0853",
   "metadata": {},
   "source": [
    "5. **Hybrid Inheritance**\n",
    "   - A combination of two or more types of inheritance (e.g., a mix of multiple and multilevel inheritance)."
   ]
  },
  {
   "cell_type": "code",
   "execution_count": 31,
   "id": "9d656d86-5376-4404-9323-6842d9ec8b55",
   "metadata": {},
   "outputs": [
    {
     "name": "stdout",
     "output_type": "stream",
     "text": [
      "Base class\n"
     ]
    }
   ],
   "source": [
    "class Base:\n",
    "    def show_base(self):\n",
    "        print(\"Base class\")\n",
    "\n",
    "class Parent1(Base):\n",
    "    pass\n",
    "\n",
    "class Parent2(Base):\n",
    "    pass\n",
    "\n",
    "class Child(Parent1, Parent2):\n",
    "    pass\n",
    "\n",
    "obj = Child()\n",
    "obj.show_base() "
   ]
  },
  {
   "cell_type": "markdown",
   "id": "c481e665-e558-4f41-8d15-8cde1af96fc5",
   "metadata": {},
   "source": [
    "#### 7. What is the Method Resolution Order (MRO) in Python? How can you retrieve it programmatically?"
   ]
  },
  {
   "cell_type": "markdown",
   "id": "c9931e01-8615-45b5-9652-5edf2517ce8e",
   "metadata": {},
   "source": [
    "**Method Resolution Order (MRO)** in Python defines the sequence in which methods are looked up in a hierarchy of classes during inheritance. It becomes especially important in cases of **multiple inheritance**. MRO helps Python determine which method to call when a method is invoked on an instance of a class that inherits from multiple parent classes.\n",
    "\n",
    "  __Retrieving MRO Programmatically:__\n",
    "You can retrieve the MRO of a class using:\n",
    "1. The mro() method.\n",
    "2. The **`__mro__`** attribute."
   ]
  },
  {
   "cell_type": "code",
   "execution_count": 33,
   "id": "1c3e8617-46bf-4c9e-83cf-71b22ce081ae",
   "metadata": {},
   "outputs": [
    {
     "name": "stdout",
     "output_type": "stream",
     "text": [
      "Method in B\n",
      "[<class '__main__.D'>, <class '__main__.B'>, <class '__main__.C'>, <class '__main__.A'>, <class 'object'>]\n",
      "(<class '__main__.D'>, <class '__main__.B'>, <class '__main__.C'>, <class '__main__.A'>, <class 'object'>)\n"
     ]
    }
   ],
   "source": [
    "class A:\n",
    "    def method(self):\n",
    "        print(\"Method in A\")\n",
    "\n",
    "class B(A):\n",
    "    def method(self):\n",
    "        print(\"Method in B\")\n",
    "\n",
    "class C(A):\n",
    "    def method(self):\n",
    "        print(\"Method in C\")\n",
    "\n",
    "class D(B, C): \n",
    "    pass\n",
    "obj = D()\n",
    "obj.method() \n",
    "print(D.mro())\n",
    "print(D.__mro__)"
   ]
  },
  {
   "cell_type": "markdown",
   "id": "6ceec4a7-240c-479f-92f0-e034b4db2d48",
   "metadata": {},
   "source": [
    "#### 8. Create an abstract base class `Shape` with an abstract method `area()`. Then create two subclasses `Circle` and `Rectangle` that implement the `area()` method."
   ]
  },
  {
   "cell_type": "code",
   "execution_count": 34,
   "id": "45161467-1668-41c3-8a16-bed9cdbcb090",
   "metadata": {},
   "outputs": [
    {
     "name": "stdout",
     "output_type": "stream",
     "text": [
      "Area of Circle: 78.53981633974483\n",
      "Area of Rectangle: 24\n"
     ]
    }
   ],
   "source": [
    "from abc import ABC, abstractmethod\n",
    "import math\n",
    "class Shape(ABC):\n",
    "    \n",
    "    @abstractmethod\n",
    "    def area(self):\n",
    "        pass \n",
    "class Circle(Shape):\n",
    "    def __init__(self, radius):\n",
    "        self.radius = radius\n",
    "\n",
    "    def area(self):\n",
    "        return math.pi * self.radius ** 2\n",
    "class Rectangle(Shape):\n",
    "    def __init__(self, width, height):\n",
    "        self.width = width\n",
    "        self.height = height\n",
    "\n",
    "    def area(self):\n",
    "        return self.width * self.height\n",
    "circle = Circle(5) \n",
    "rectangle = Rectangle(4, 6) \n",
    "\n",
    "print(f\"Area of Circle: {circle.area()}\") \n",
    "print(f\"Area of Rectangle: {rectangle.area()}\") "
   ]
  },
  {
   "cell_type": "markdown",
   "id": "f27e191c-b764-4b63-9542-095e0a12b1fa",
   "metadata": {},
   "source": [
    "#### 9. Demonstrate polymorphism by creating a function that can work with different shape objects to calculate and print their areas."
   ]
  },
  {
   "cell_type": "code",
   "execution_count": 35,
   "id": "ed80a468-f6dd-4194-b652-004fce0dc13d",
   "metadata": {},
   "outputs": [
    {
     "name": "stdout",
     "output_type": "stream",
     "text": [
      "The area of the Circle is: 78.53981633974483\n",
      "The area of the Rectangle is: 24\n",
      "The area of the Triangle is: 7.5\n"
     ]
    }
   ],
   "source": [
    "from abc import ABC, abstractmethod\n",
    "import math\n",
    "class Shape(ABC):\n",
    "    \n",
    "    @abstractmethod\n",
    "    def area(self):\n",
    "        pass \n",
    "class Circle(Shape):\n",
    "    def __init__(self, radius):\n",
    "        self.radius = radius\n",
    "\n",
    "    def area(self):\n",
    "        return math.pi * self.radius ** 2\n",
    "class Rectangle(Shape):\n",
    "    def __init__(self, width, height):\n",
    "        self.width = width\n",
    "        self.height = height\n",
    "\n",
    "    def area(self):\n",
    "        return self.width * self.height\n",
    "class Triangle(Shape):\n",
    "    def __init__(self, base, height):\n",
    "        self.base = base\n",
    "        self.height = height\n",
    "\n",
    "    def area(self):\n",
    "        return 0.5 * self.base * self.height\n",
    "def print_area(shape):\n",
    "    print(f\"The area of the {shape.__class__.__name__} is: {shape.area()}\")\n",
    "\n",
    "shapes = [Circle(5), Rectangle(4, 6), Triangle(3, 5)]\n",
    "\n",
    "for shape in shapes:\n",
    "    print_area(shape)\n"
   ]
  },
  {
   "cell_type": "markdown",
   "id": "6f3a4e8c-c8e0-4d8e-9b3c-54742f905369",
   "metadata": {},
   "source": [
    "#### 10. Implement encapsulation in a `BankAccount` class with private attributes for `balance` and`account_number`. Include methods for deposit, withdrawal, and balance inquiry."
   ]
  },
  {
   "cell_type": "code",
   "execution_count": 36,
   "id": "02583abe-f703-406b-bdfa-6efec97584b7",
   "metadata": {},
   "outputs": [
    {
     "name": "stdout",
     "output_type": "stream",
     "text": [
      "Deposited: $500.00\n",
      "Withdrew: $200.00\n",
      "Current balance: $1300.00\n",
      "Insufficient funds or invalid amount.\n",
      "Account Number: 123456789\n"
     ]
    }
   ],
   "source": [
    "class BankAccount:\n",
    "    def __init__(self, account_number, initial_balance=0):\n",
    "        self.__account_number = account_number  \n",
    "        self.__balance = initial_balance        \n",
    "\n",
    "    def deposit(self, amount):\n",
    "        \"\"\"Deposit money into the account.\"\"\"\n",
    "        if amount > 0:\n",
    "            self.__balance += amount\n",
    "            print(f\"Deposited: ${amount:.2f}\")\n",
    "        else:\n",
    "            print(\"Deposit amount must be positive.\")\n",
    "\n",
    "    def withdraw(self, amount):\n",
    "        \"\"\"Withdraw money from the account.\"\"\"\n",
    "        if 0 < amount <= self.__balance:\n",
    "            self.__balance -= amount\n",
    "            print(f\"Withdrew: ${amount:.2f}\")\n",
    "        else:\n",
    "            print(\"Insufficient funds or invalid amount.\")\n",
    "\n",
    "    def get_balance(self):\n",
    "        \"\"\"Return the current balance.\"\"\"\n",
    "        return self.__balance\n",
    "\n",
    "    def get_account_number(self):\n",
    "        \"\"\"Return the account number.\"\"\"\n",
    "        return self.__account_number\n",
    "account = BankAccount(\"123456789\", 1000)\n",
    "account.deposit(500)  # Output: Deposited: $500.00\n",
    "account.withdraw(200)  # Output: Withdrew: $200.00\n",
    "print(f\"Current balance: ${account.get_balance():.2f}\") \n",
    "account.withdraw(1500) \n",
    "print(f\"Account Number: {account.get_account_number()}\") \n"
   ]
  },
  {
   "cell_type": "markdown",
   "id": "dfba5924-9580-4195-87d2-4d6443b70009",
   "metadata": {},
   "source": [
    "#### 11. Write a class that overrides the `__str__` and `__add__` magic methods. What will these methods allow you to do?"
   ]
  },
  {
   "cell_type": "markdown",
   "id": "c4995855-9e1d-4a82-b82d-5585008c8674",
   "metadata": {},
   "source": [
    "In Python, special or magic methods allow you to define how objects of a class behave with built-in functions and operators. The __str__ method is used to provide a string representation of an object, while the __add__ method allows you to define the behavior of the addition operator (+) for instances of a class."
   ]
  },
  {
   "cell_type": "code",
   "execution_count": 37,
   "id": "c0f875d2-3922-4865-892c-288e9dfe8a4d",
   "metadata": {},
   "outputs": [
    {
     "name": "stdout",
     "output_type": "stream",
     "text": [
      "Vector(2, 3)\n",
      "Vector(4, 5)\n",
      "Vector(6, 8)\n"
     ]
    }
   ],
   "source": [
    "class Vector:\n",
    "    def __init__(self, x, y):\n",
    "        self.x = x\n",
    "        self.y = y\n",
    "\n",
    "    def __str__(self):\n",
    "        \"\"\"Return a string representation of the vector.\"\"\"\n",
    "        return f\"Vector({self.x}, {self.y})\"\n",
    "\n",
    "    def __add__(self, other):\n",
    "        \"\"\"Override the addition operator to add two vectors.\"\"\"\n",
    "        if isinstance(other, Vector):\n",
    "            return Vector(self.x + other.x, self.y + other.y)\n",
    "        return NotImplemented \n",
    "v1 = Vector(2, 3)\n",
    "v2 = Vector(4, 5)\n",
    "print(v1)\n",
    "print(v2) \n",
    "v3 = v1 + v2\n",
    "print(v3)  "
   ]
  },
  {
   "cell_type": "markdown",
   "id": "96b7ec35-a5aa-4b11-b38a-65889415cd08",
   "metadata": {},
   "source": [
    "#### 12. Create a decorator that measures and prints the execution time of a function."
   ]
  },
  {
   "cell_type": "code",
   "execution_count": 38,
   "id": "dd8583cf-a5a3-40ba-8543-f382ac5c937b",
   "metadata": {},
   "outputs": [
    {
     "name": "stdout",
     "output_type": "stream",
     "text": [
      "Execution time for slow_function: 2.0010 seconds\n",
      "Execution time for fast_function: 0.0000 seconds\n"
     ]
    },
    {
     "data": {
      "text/plain": [
       "49995000"
      ]
     },
     "execution_count": 38,
     "metadata": {},
     "output_type": "execute_result"
    }
   ],
   "source": [
    "import time\n",
    "\n",
    "def time_it(func):\n",
    "    \"\"\"Decorator to measure the execution time of a function.\"\"\"\n",
    "    def wrapper(*args, **kwargs):\n",
    "        start_time = time.time()  # Record the start time\n",
    "        result = func(*args, **kwargs)  # Call the original function\n",
    "        end_time = time.time()  # Record the end time\n",
    "        execution_time = end_time - start_time  # Calculate the execution time\n",
    "        print(f\"Execution time for {func.__name__}: {execution_time:.4f} seconds\")\n",
    "        return result  # Return the result of the original function\n",
    "    return wrapper\n",
    "@time_it\n",
    "def slow_function():\n",
    "    \"\"\"Simulate a slow function.\"\"\"\n",
    "    time.sleep(2)  # Sleep for 2 seconds\n",
    "\n",
    "@time_it\n",
    "def fast_function():\n",
    "    \"\"\"Simulate a fast function.\"\"\"\n",
    "    return sum(range(10000))  # Compute the sum of numbers\n",
    "slow_function()  \n",
    "fast_function() "
   ]
  },
  {
   "cell_type": "markdown",
   "id": "293989b4-ec43-452d-9427-ebe863197136",
   "metadata": {},
   "source": [
    "#### 13. Explain the concept of the Diamond Problem in multiple inheritance. How does Python resolve it?"
   ]
  },
  {
   "cell_type": "markdown",
   "id": "da35c1e7-14cf-45d7-9c33-573012fbfc31",
   "metadata": {},
   "source": [
    "The Diamond Problem is a well-known issue in object-oriented programming that occurs with multiple inheritance. It arises when a class inherits from two classes that have a common ancestor, leading to ambiguity in method resolution."
   ]
  },
  {
   "cell_type": "markdown",
   "id": "0177fc60-74c1-46cc-b124-5f1adf70eb59",
   "metadata": {},
   "source": [
    "__How Python Resolves the Diamond Problem:__\n",
    "Python uses a method resolution order (MRO) to resolve this ambiguity. The MRO is determined using an algorithm called C3 linearization (or C3 superclass linearization).\n",
    "\n",
    "1. C3 Linearization:\n",
    "\n",
    "- Python constructs the MRO based on the order in which classes are defined, prioritizing the left-most base class when there are multiple paths to the same class.\n",
    "  \n",
    "- In the example above, Python first looks in class B for the show() method. If it doesn't find it there, it will then look in class C, and finally in class A.\n",
    "\n",
    "2. Viewing the MRO:\n",
    "\n",
    "- You can view the MRO of a class using the __mro__ attribute or the mro() method."
   ]
  },
  {
   "cell_type": "markdown",
   "id": "3a9e8420-9533-42f8-aaa7-96e18500a2cc",
   "metadata": {},
   "source": [
    "#### 14. Write a class method that keeps track of the number of instances created from a class."
   ]
  },
  {
   "cell_type": "code",
   "execution_count": 40,
   "id": "aefa8622-20a8-4fd0-9378-3d8fd60f81d4",
   "metadata": {},
   "outputs": [
    {
     "name": "stdout",
     "output_type": "stream",
     "text": [
      "Number of instances created: 3\n"
     ]
    }
   ],
   "source": [
    "class InstanceCounter:\n",
    "    instance_count = 0  \n",
    "\n",
    "    def __init__(self):\n",
    "        InstanceCounter.instance_count += 1 \n",
    "    @classmethod\n",
    "    def get_instance_count(cls):\n",
    "        \"\"\"Class method to return the number of instances created.\"\"\"\n",
    "        return cls.instance_count\n",
    "obj1 = InstanceCounter()\n",
    "obj2 = InstanceCounter()\n",
    "obj3 = InstanceCounter()\n",
    "print(f\"Number of instances created: {InstanceCounter.get_instance_count()}\")  \n"
   ]
  },
  {
   "cell_type": "markdown",
   "id": "17979d9a-dadc-4af4-a376-7a5c858d55f1",
   "metadata": {},
   "source": [
    "#### 15. Implement a static method in a class that checks if a given year is a leap year."
   ]
  },
  {
   "cell_type": "code",
   "execution_count": 41,
   "id": "82b61255-bcee-4d08-a8cb-b8e2de30250e",
   "metadata": {},
   "outputs": [
    {
     "name": "stdout",
     "output_type": "stream",
     "text": [
      "2024 is a leap year.\n",
      "1900 is not a leap year.\n",
      "2000 is a leap year.\n"
     ]
    }
   ],
   "source": [
    "class YearChecker:\n",
    "    @staticmethod\n",
    "    def is_leap_year(year):\n",
    "        \"\"\"Static method to check if a given year is a leap year.\"\"\"\n",
    "        if (year % 4 == 0 and year % 100 != 0) or (year % 400 == 0):\n",
    "            return True\n",
    "        return False\n",
    "year = 2024\n",
    "if YearChecker.is_leap_year(year):\n",
    "    print(f\"{year} is a leap year.\")\n",
    "else:\n",
    "    print(f\"{year} is not a leap year.\")\n",
    "\n",
    "year = 1900\n",
    "if YearChecker.is_leap_year(year):\n",
    "    print(f\"{year} is a leap year.\")\n",
    "else:\n",
    "    print(f\"{year} is not a leap year.\")\n",
    "\n",
    "year = 2000\n",
    "if YearChecker.is_leap_year(year):\n",
    "    print(f\"{year} is a leap year.\")\n",
    "else:\n",
    "    print(f\"{year} is not a leap year.\")\n"
   ]
  },
  {
   "cell_type": "code",
   "execution_count": null,
   "id": "dc8b9704-0932-485e-a98f-349cd9ceaebe",
   "metadata": {},
   "outputs": [],
   "source": []
  }
 ],
 "metadata": {
  "kernelspec": {
   "display_name": "Python 3 (ipykernel)",
   "language": "python",
   "name": "python3"
  },
  "language_info": {
   "codemirror_mode": {
    "name": "ipython",
    "version": 3
   },
   "file_extension": ".py",
   "mimetype": "text/x-python",
   "name": "python",
   "nbconvert_exporter": "python",
   "pygments_lexer": "ipython3",
   "version": "3.12.4"
  }
 },
 "nbformat": 4,
 "nbformat_minor": 5
}
